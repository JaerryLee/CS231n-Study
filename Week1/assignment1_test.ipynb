{
  "nbformat": 4,
  "nbformat_minor": 0,
  "metadata": {
    "colab": {
      "provenance": [],
      "gpuType": "T4"
    },
    "kernelspec": {
      "name": "python3",
      "display_name": "Python 3"
    },
    "language_info": {
      "name": "python"
    },
    "accelerator": "GPU"
  },
  "cells": [
    {
      "cell_type": "markdown",
      "source": [
        "# Assignment 1 해설"
      ],
      "metadata": {
        "id": "W7ZSB5N5gmFC"
      }
    },
    {
      "cell_type": "code",
      "execution_count": null,
      "metadata": {
        "id": "PrzHUXlVooab"
      },
      "outputs": [],
      "source": [
        "import numpy as np\n",
        "import time"
      ]
    },
    {
      "cell_type": "markdown",
      "source": [
        "### 타이머 생성"
      ],
      "metadata": {
        "id": "s65Hexstgq2K"
      }
    },
    {
      "cell_type": "code",
      "source": [
        "def timer(func): # timer using decorator\n",
        "  def wrapper(*args, **kwargs):\n",
        "    start_time = time.time()\n",
        "    result = func(*args, **kwargs)\n",
        "    end_time = time.time()\n",
        "    computation_time = end_time - start_time\n",
        "    print(f\"Execution time of {func.__name__}: {computation_time} seconds\")\n",
        "    return result\n",
        "  return wrapper"
      ],
      "metadata": {
        "id": "iKjkE5VY3sa9"
      },
      "execution_count": null,
      "outputs": []
    },
    {
      "cell_type": "markdown",
      "source": [
        "### 모델을 훈련시키기 위한 가상 데이터를 생성하고, 훈련 세트와 검증 세트로 분할하는 과정"
      ],
      "metadata": {
        "id": "POygAHrlguTv"
      }
    },
    {
      "cell_type": "code",
      "source": [
        "true_b = 1\n",
        "true_w = 2\n",
        "N = 100 # Number of data\n",
        "\n",
        "np.random.seed(42)\n",
        "x = np.random.rand(N, 1)\n",
        "# epsilon = 0.1 * np.random.randn(N, 1)\n",
        "y = true_b + true_w * x"
      ],
      "metadata": {
        "id": "jm6f73j4pJPa"
      },
      "execution_count": null,
      "outputs": []
    },
    {
      "cell_type": "code",
      "source": [
        "idx = np.arange(N)\n",
        "split_index = int(N * 0.8)\n",
        "\n",
        "train_idx = idx[:split_index]\n",
        "val_idx = idx[split_index:]\n",
        "\n",
        "# Generates train and validation sets\n",
        "x_train, y_train = x[train_idx], y[train_idx]\n",
        "x_val, y_val = x[val_idx], y[val_idx]\n",
        "# x_train = np.append(x_train, [1.])\n",
        "# y_train = np.append(y_train, [10.])"
      ],
      "metadata": {
        "id": "O0N8qAx9p68v"
      },
      "execution_count": null,
      "outputs": []
    },
    {
      "cell_type": "markdown",
      "source": [
        "### 선형 회귀 모델 수식\n",
        "$$y=b+wx$$\n",
        "\n",
        "### 다항 회귀 모델\n",
        "\n",
        "$$y=b+wx+w_2x^2+w_3x^3+w_4x^4 ...$$"
      ],
      "metadata": {
        "id": "07-0MM3BhZ2L"
      }
    },
    {
      "cell_type": "markdown",
      "source": [
        "### 텐서(Tensor)를 생성하고, CPU 또는 GPU로 이동"
      ],
      "metadata": {
        "id": "at7jCXmhiFDR"
      }
    },
    {
      "cell_type": "code",
      "source": [
        "import torch\n",
        "# from torchviz import make_dot"
      ],
      "metadata": {
        "id": "ucFG_CO00ggv"
      },
      "execution_count": null,
      "outputs": []
    },
    {
      "cell_type": "code",
      "source": [
        "# create tensor at CPU\n",
        "x_train_tensor = torch.as_tensor(x_train)\n",
        "y_train_tensor = torch.as_tensor(y_train)\n",
        "\n",
        "# create tensor at GPU\n",
        "device = 'cuda' if torch.cuda.is_available() else 'cpu'\n",
        "print(device)\n",
        "x_train_tensor = torch.as_tensor(x_train).to(device)\n",
        "y_train_tensor = torch.as_tensor(y_train).to(device)"
      ],
      "metadata": {
        "id": "Qof-f4Jt6XEa",
        "colab": {
          "base_uri": "https://localhost:8080/"
        },
        "outputId": "01c1fff9-8443-4cb1-96da-a604d24d031a"
      },
      "execution_count": null,
      "outputs": [
        {
          "output_type": "stream",
          "name": "stdout",
          "text": [
            "cuda\n"
          ]
        }
      ]
    },
    {
      "cell_type": "markdown",
      "source": [
        "### PyTorch를 사용하여 선형 회귀 모델을 학습"
      ],
      "metadata": {
        "id": "J6bvOpC9nC1N"
      }
    },
    {
      "cell_type": "code",
      "source": [
        "from torch import nn, optim"
      ],
      "metadata": {
        "id": "-lSZhFb7CXR5"
      },
      "execution_count": null,
      "outputs": []
    },
    {
      "cell_type": "code",
      "source": [
        "@timer\n",
        "def train_model_torch_optim(lr=0.1, epochs=1000):\n",
        "  b = torch.randn(1, requires_grad=True, dtype=torch.float, device=device)\n",
        "  w = torch.randn(1, requires_grad=True, dtype=torch.float, device=device)\n",
        "  # w2 = torch.randn(1, requires_grad=True, dtype=torch.float, device=device)\n",
        "  parameters = [b, w]\n",
        "  optimizer = optim.SGD(parameters, lr=lr)\n",
        "  mse_loss = nn.MSELoss()\n",
        "\n",
        "  for epoch in range(epochs):\n",
        "    # Loss computation\n",
        "    y_hat = b + w * x_train_tensor # + w2 * (x_train_tensor ** 2)\n",
        "    loss = mse_loss(y_hat, y_train_tensor)\n",
        "\n",
        "    # Gradient computation and descent\n",
        "    loss.backward()\n",
        "    optimizer.step()\n",
        "    optimizer.zero_grad()\n",
        "\n",
        "  return w, b"
      ],
      "metadata": {
        "id": "TI-LDk-_B_KR"
      },
      "execution_count": null,
      "outputs": []
    },
    {
      "cell_type": "code",
      "source": [
        "train_w, train_b = train_model_torch_optim()\n",
        "train_w, train_b"
      ],
      "metadata": {
        "colab": {
          "base_uri": "https://localhost:8080/"
        },
        "id": "TbN93v1iC2bS",
        "outputId": "6318d928-396d-47fa-8f29-e95b43817959"
      },
      "execution_count": null,
      "outputs": [
        {
          "output_type": "stream",
          "name": "stdout",
          "text": [
            "Execution time of train_model_torch_optim: 0.5905554294586182 seconds\n"
          ]
        },
        {
          "output_type": "execute_result",
          "data": {
            "text/plain": [
              "(tensor([2.0000], device='cuda:0', requires_grad=True),\n",
              " tensor([1.0000], device='cuda:0', requires_grad=True))"
            ]
          },
          "metadata": {},
          "execution_count": 41
        }
      ]
    },
    {
      "cell_type": "markdown",
      "source": [
        "## Quiz 1 Calculate MSE error for testset"
      ],
      "metadata": {
        "id": "kCfG7jjdI9SD"
      }
    },
    {
      "cell_type": "markdown",
      "source": [
        "* 필수조건 GPU device 사용"
      ],
      "metadata": {
        "id": "ih75GQ_oo4Ce"
      }
    },
    {
      "cell_type": "code",
      "source": [
        "device = 'cuda' if torch.cuda.is_available() else 'cpu'\n",
        "device"
      ],
      "metadata": {
        "id": "DveOPpfTC5HW",
        "colab": {
          "base_uri": "https://localhost:8080/",
          "height": 35
        },
        "outputId": "24f9019b-89b1-4a9e-fde4-653801fc1fd9"
      },
      "execution_count": null,
      "outputs": [
        {
          "output_type": "execute_result",
          "data": {
            "text/plain": [
              "'cuda'"
            ],
            "application/vnd.google.colaboratory.intrinsic+json": {
              "type": "string"
            }
          },
          "metadata": {},
          "execution_count": 50
        }
      ]
    },
    {
      "cell_type": "markdown",
      "source": [
        "* 테스트 데이터셋"
      ],
      "metadata": {
        "id": "YgKYFfK3o3pI"
      }
    },
    {
      "cell_type": "code",
      "source": [
        "# create tensor at CPU\n",
        "x_val_tensor = torch.as_tensor(x_val).to(device)\n",
        "y_val_tensor = torch.as_tensor(y_val).to(device)"
      ],
      "metadata": {
        "id": "Yh4EnkDwHmI1"
      },
      "execution_count": null,
      "outputs": []
    },
    {
      "cell_type": "markdown",
      "source": [
        "* MSE 계산\n",
        "\n",
        "$$MSE Loss = \\frac{1}{N}∑^N_{i=1}(y_i-\\hat{y}_i)^2$$"
      ],
      "metadata": {
        "id": "X8xVXwnSpBq8"
      }
    },
    {
      "cell_type": "code",
      "source": [
        "mse_loss = nn.MSELoss()"
      ],
      "metadata": {
        "id": "6I3g4qxtpFZd"
      },
      "execution_count": null,
      "outputs": []
    },
    {
      "cell_type": "markdown",
      "source": [
        "* 모델의 성능을 평가할 때 그래디언트를 사용하지 않아도 됩니다."
      ],
      "metadata": {
        "id": "vTboOKuHqvSC"
      }
    },
    {
      "cell_type": "code",
      "source": [
        "with torch.no_grad():\n",
        "  y_hat = train_b + train_w * x_val_tensor\n",
        "  loss = mse_loss(y_hat, y_val_tensor)"
      ],
      "metadata": {
        "id": "CbRFu5RGI4c3"
      },
      "execution_count": null,
      "outputs": []
    },
    {
      "cell_type": "markdown",
      "source": [
        "예측값: $$\\hat{y} = b + w * x $$\n",
        "Bias: $$b_{train}$$\n",
        "Weight(가중치): $$w_{train}$$\n",
        "입력 데이터: $$x_{val\\_tensor}$$"
      ],
      "metadata": {
        "id": "tEikikp3pY25"
      }
    },
    {
      "cell_type": "code",
      "source": [
        "print(loss)"
      ],
      "metadata": {
        "id": "SmfywdMoI46Q"
      },
      "execution_count": null,
      "outputs": []
    },
    {
      "cell_type": "markdown",
      "source": [
        "비용 함수를 최소화하기 위해 경사 하강법을 적용하여 가중치 w와 편향 b를 다음과 같이 업데이트 할 수 있다.\n"
      ],
      "metadata": {
        "id": "jlUJS18seJ04"
      }
    },
    {
      "cell_type": "markdown",
      "source": [
        "$$w_{t+1} = w_t - \\eta \\frac{1}{N} \\sum_{n=1}^{N} (h_t(x_n) - y_n) x_n$$\n",
        "$$b_{t+1} = b_t - \\eta \\frac{1}{N} \\sum_{n=1}^{N} (h_t(x_n) - y_n)$$\n"
      ],
      "metadata": {
        "id": "AlCQR6FzeC0h"
      }
    },
    {
      "cell_type": "markdown",
      "source": [
        "현재 가중치와 편향입니다.\n",
        "$$w_t, b_t$$\n",
        "\n",
        "Learning Rate: $$\\eta$$\n",
        "\n"
      ],
      "metadata": {
        "id": "9AUCPWxcefsj"
      }
    },
    {
      "cell_type": "markdown",
      "source": [
        "# Quiz 2"
      ],
      "metadata": {
        "id": "y4qwuhtQrqAw"
      }
    },
    {
      "cell_type": "code",
      "source": [
        "import pickle"
      ],
      "metadata": {
        "id": "4a6xiWsjPNKv"
      },
      "execution_count": null,
      "outputs": []
    },
    {
      "cell_type": "code",
      "source": [
        "from google.colab import drive\n",
        "drive.mount('/content/drive')"
      ],
      "metadata": {
        "colab": {
          "base_uri": "https://localhost:8080/"
        },
        "id": "9ihpvGHWsmWP",
        "outputId": "63248a64-0a72-4efd-ea25-55635d5977f9"
      },
      "execution_count": null,
      "outputs": [
        {
          "output_type": "stream",
          "name": "stdout",
          "text": [
            "Mounted at /content/drive\n"
          ]
        }
      ]
    },
    {
      "cell_type": "code",
      "source": [
        "%cd /content/drive/MyDrive/Colab Notebooks/"
      ],
      "metadata": {
        "colab": {
          "base_uri": "https://localhost:8080/"
        },
        "id": "rZINpC6Zsuew",
        "outputId": "0f9071e5-be22-46c9-870d-fdc7c5261e45"
      },
      "execution_count": null,
      "outputs": [
        {
          "output_type": "stream",
          "name": "stdout",
          "text": [
            "/content/drive/MyDrive/Colab Notebooks\n"
          ]
        }
      ]
    },
    {
      "cell_type": "code",
      "source": [
        "from google.colab import files\n",
        "uploaded = files.upload()"
      ],
      "metadata": {
        "colab": {
          "base_uri": "https://localhost:8080/",
          "height": 77
        },
        "id": "5uioa3bJsxAX",
        "outputId": "158f1d6b-b1bc-4f4a-e9a4-c76d0d590886"
      },
      "execution_count": null,
      "outputs": [
        {
          "output_type": "display_data",
          "data": {
            "text/plain": [
              "<IPython.core.display.HTML object>"
            ],
            "text/html": [
              "\n",
              "     <input type=\"file\" id=\"files-c617e5d5-d19a-4b44-b37f-26c702b0ee7c\" name=\"files[]\" multiple disabled\n",
              "        style=\"border:none\" />\n",
              "     <output id=\"result-c617e5d5-d19a-4b44-b37f-26c702b0ee7c\">\n",
              "      Upload widget is only available when the cell has been executed in the\n",
              "      current browser session. Please rerun this cell to enable.\n",
              "      </output>\n",
              "      <script>// Copyright 2017 Google LLC\n",
              "//\n",
              "// Licensed under the Apache License, Version 2.0 (the \"License\");\n",
              "// you may not use this file except in compliance with the License.\n",
              "// You may obtain a copy of the License at\n",
              "//\n",
              "//      http://www.apache.org/licenses/LICENSE-2.0\n",
              "//\n",
              "// Unless required by applicable law or agreed to in writing, software\n",
              "// distributed under the License is distributed on an \"AS IS\" BASIS,\n",
              "// WITHOUT WARRANTIES OR CONDITIONS OF ANY KIND, either express or implied.\n",
              "// See the License for the specific language governing permissions and\n",
              "// limitations under the License.\n",
              "\n",
              "/**\n",
              " * @fileoverview Helpers for google.colab Python module.\n",
              " */\n",
              "(function(scope) {\n",
              "function span(text, styleAttributes = {}) {\n",
              "  const element = document.createElement('span');\n",
              "  element.textContent = text;\n",
              "  for (const key of Object.keys(styleAttributes)) {\n",
              "    element.style[key] = styleAttributes[key];\n",
              "  }\n",
              "  return element;\n",
              "}\n",
              "\n",
              "// Max number of bytes which will be uploaded at a time.\n",
              "const MAX_PAYLOAD_SIZE = 100 * 1024;\n",
              "\n",
              "function _uploadFiles(inputId, outputId) {\n",
              "  const steps = uploadFilesStep(inputId, outputId);\n",
              "  const outputElement = document.getElementById(outputId);\n",
              "  // Cache steps on the outputElement to make it available for the next call\n",
              "  // to uploadFilesContinue from Python.\n",
              "  outputElement.steps = steps;\n",
              "\n",
              "  return _uploadFilesContinue(outputId);\n",
              "}\n",
              "\n",
              "// This is roughly an async generator (not supported in the browser yet),\n",
              "// where there are multiple asynchronous steps and the Python side is going\n",
              "// to poll for completion of each step.\n",
              "// This uses a Promise to block the python side on completion of each step,\n",
              "// then passes the result of the previous step as the input to the next step.\n",
              "function _uploadFilesContinue(outputId) {\n",
              "  const outputElement = document.getElementById(outputId);\n",
              "  const steps = outputElement.steps;\n",
              "\n",
              "  const next = steps.next(outputElement.lastPromiseValue);\n",
              "  return Promise.resolve(next.value.promise).then((value) => {\n",
              "    // Cache the last promise value to make it available to the next\n",
              "    // step of the generator.\n",
              "    outputElement.lastPromiseValue = value;\n",
              "    return next.value.response;\n",
              "  });\n",
              "}\n",
              "\n",
              "/**\n",
              " * Generator function which is called between each async step of the upload\n",
              " * process.\n",
              " * @param {string} inputId Element ID of the input file picker element.\n",
              " * @param {string} outputId Element ID of the output display.\n",
              " * @return {!Iterable<!Object>} Iterable of next steps.\n",
              " */\n",
              "function* uploadFilesStep(inputId, outputId) {\n",
              "  const inputElement = document.getElementById(inputId);\n",
              "  inputElement.disabled = false;\n",
              "\n",
              "  const outputElement = document.getElementById(outputId);\n",
              "  outputElement.innerHTML = '';\n",
              "\n",
              "  const pickedPromise = new Promise((resolve) => {\n",
              "    inputElement.addEventListener('change', (e) => {\n",
              "      resolve(e.target.files);\n",
              "    });\n",
              "  });\n",
              "\n",
              "  const cancel = document.createElement('button');\n",
              "  inputElement.parentElement.appendChild(cancel);\n",
              "  cancel.textContent = 'Cancel upload';\n",
              "  const cancelPromise = new Promise((resolve) => {\n",
              "    cancel.onclick = () => {\n",
              "      resolve(null);\n",
              "    };\n",
              "  });\n",
              "\n",
              "  // Wait for the user to pick the files.\n",
              "  const files = yield {\n",
              "    promise: Promise.race([pickedPromise, cancelPromise]),\n",
              "    response: {\n",
              "      action: 'starting',\n",
              "    }\n",
              "  };\n",
              "\n",
              "  cancel.remove();\n",
              "\n",
              "  // Disable the input element since further picks are not allowed.\n",
              "  inputElement.disabled = true;\n",
              "\n",
              "  if (!files) {\n",
              "    return {\n",
              "      response: {\n",
              "        action: 'complete',\n",
              "      }\n",
              "    };\n",
              "  }\n",
              "\n",
              "  for (const file of files) {\n",
              "    const li = document.createElement('li');\n",
              "    li.append(span(file.name, {fontWeight: 'bold'}));\n",
              "    li.append(span(\n",
              "        `(${file.type || 'n/a'}) - ${file.size} bytes, ` +\n",
              "        `last modified: ${\n",
              "            file.lastModifiedDate ? file.lastModifiedDate.toLocaleDateString() :\n",
              "                                    'n/a'} - `));\n",
              "    const percent = span('0% done');\n",
              "    li.appendChild(percent);\n",
              "\n",
              "    outputElement.appendChild(li);\n",
              "\n",
              "    const fileDataPromise = new Promise((resolve) => {\n",
              "      const reader = new FileReader();\n",
              "      reader.onload = (e) => {\n",
              "        resolve(e.target.result);\n",
              "      };\n",
              "      reader.readAsArrayBuffer(file);\n",
              "    });\n",
              "    // Wait for the data to be ready.\n",
              "    let fileData = yield {\n",
              "      promise: fileDataPromise,\n",
              "      response: {\n",
              "        action: 'continue',\n",
              "      }\n",
              "    };\n",
              "\n",
              "    // Use a chunked sending to avoid message size limits. See b/62115660.\n",
              "    let position = 0;\n",
              "    do {\n",
              "      const length = Math.min(fileData.byteLength - position, MAX_PAYLOAD_SIZE);\n",
              "      const chunk = new Uint8Array(fileData, position, length);\n",
              "      position += length;\n",
              "\n",
              "      const base64 = btoa(String.fromCharCode.apply(null, chunk));\n",
              "      yield {\n",
              "        response: {\n",
              "          action: 'append',\n",
              "          file: file.name,\n",
              "          data: base64,\n",
              "        },\n",
              "      };\n",
              "\n",
              "      let percentDone = fileData.byteLength === 0 ?\n",
              "          100 :\n",
              "          Math.round((position / fileData.byteLength) * 100);\n",
              "      percent.textContent = `${percentDone}% done`;\n",
              "\n",
              "    } while (position < fileData.byteLength);\n",
              "  }\n",
              "\n",
              "  // All done.\n",
              "  yield {\n",
              "    response: {\n",
              "      action: 'complete',\n",
              "    }\n",
              "  };\n",
              "}\n",
              "\n",
              "scope.google = scope.google || {};\n",
              "scope.google.colab = scope.google.colab || {};\n",
              "scope.google.colab._files = {\n",
              "  _uploadFiles,\n",
              "  _uploadFilesContinue,\n",
              "};\n",
              "})(self);\n",
              "</script> "
            ]
          },
          "metadata": {}
        },
        {
          "output_type": "stream",
          "name": "stdout",
          "text": [
            "Saving quiz_data.pkl to quiz_data.pkl\n"
          ]
        }
      ]
    },
    {
      "cell_type": "code",
      "source": [
        "with open('/content/drive/MyDrive/Colab Notebooks/quiz_data.pkl', 'rb') as f:\n",
        "  data = pickle.load(f)\n",
        "\n",
        "  print(data[\"x\"])\n",
        "  print(data[\"y\"])\n",
        "\n",
        "  x = data[\"x\"]\n",
        "  y = data[\"y\"]"
      ],
      "metadata": {
        "id": "VTxEyY_GI5ss"
      },
      "execution_count": null,
      "outputs": []
    },
    {
      "cell_type": "code",
      "source": [
        "idx = np.arange(N)\n",
        "split_index = int(N * 0.8)\n",
        "\n",
        "train_idx = idx[:split_index]\n",
        "val_idx = idx[split_index:]\n",
        "\n",
        "# Generates train and validation sets\n",
        "x_train, y_train = x[train_idx], y[train_idx]\n",
        "x_val, y_val = x[val_idx], y[val_idx]"
      ],
      "metadata": {
        "id": "eiu2AjJJPpJz"
      },
      "execution_count": null,
      "outputs": []
    },
    {
      "cell_type": "code",
      "source": [
        "x_train_tensor = torch.as_tensor(x_train).to(device)\n",
        "y_train_tensor = torch.as_tensor(y_train).to(device)\n",
        "x_val_tensor = torch.as_tensor(x_val).to(device)\n",
        "y_val_tensor = torch.as_tensor(y_val).to(device)"
      ],
      "metadata": {
        "id": "QxAx8OtPP7tf"
      },
      "execution_count": null,
      "outputs": []
    },
    {
      "cell_type": "code",
      "source": [
        "@timer\n",
        "def train_model_torch_optim(lr=0.1, epochs=1000):\n",
        "  b = torch.randn(1, requires_grad=True, dtype=torch.float, device=device)\n",
        "  w = torch.randn(1, requires_grad=True, dtype=torch.float, device=device)\n",
        "  w2 = torch.randn(1, requires_grad=True, dtype=torch.float, device=device)\n",
        "  w3 = torch.randn(1, requires_grad=True, dtype=torch.float, device=device)\n",
        "  w4 = torch.randn(1, requires_grad=True, dtype=torch.float, device=device)\n",
        "  parameters = [b, w, w2, w3, w4]\n",
        "  optimizer = optim.SGD(parameters, lr=lr)\n",
        "  mse_loss = nn.MSELoss()\n",
        "\n",
        "  for epoch in range(epochs):\n",
        "    # Loss computation\n",
        "    y_hat = b + w * x_train_tensor + w2 * (x_train_tensor ** 2) + w3 * (x_train_tensor ** 3) + w4 * (x_train_tensor ** 4)\n",
        "    loss = mse_loss(y_hat, y_train_tensor)\n",
        "\n",
        "    # Gradient computation and descent\n",
        "    loss.backward()\n",
        "    optimizer.step()\n",
        "    optimizer.zero_grad()\n",
        "\n",
        "  return w4, w3, w2, w, b"
      ],
      "metadata": {
        "id": "WPV25cnnQPxb"
      },
      "execution_count": null,
      "outputs": []
    },
    {
      "cell_type": "markdown",
      "source": [
        "* 모델 복잡도를 낮추거나 높일 수 있습니다."
      ],
      "metadata": {
        "id": "vKZXqUpTw4PC"
      }
    },
    {
      "cell_type": "code",
      "source": [
        "'''\n",
        "@timer\n",
        "def train_model_low_complexity(lr=0.1, epochs=1000):\n",
        "    b = torch.randn(1, requires_grad=True, dtype=torch.float, device=device)\n",
        "    w = torch.randn(1, requires_grad=True, dtype=torch.float, device=device)\n",
        "    w2 = torch.randn(1, requires_grad=True, dtype=torch.float, device=device)\n",
        "    parameters = [b, w, w2]\n",
        "    optimizer = optim.SGD(parameters, lr=lr)\n",
        "    mse_loss = nn.MSELoss()\n",
        "\n",
        "    for epoch in range(epochs):\n",
        "        # Loss computation\n",
        "        y_hat = b + w * x_train_tensor + w2 * (x_train_tensor ** 2)\n",
        "        loss = mse_loss(y_hat, y_train_tensor)\n",
        "\n",
        "        # Gradient computation and descent\n",
        "        loss.backward()\n",
        "        optimizer.step()\n",
        "        optimizer.zero_grad()\n",
        "\n",
        "    return w2, w, b\n",
        "'''"
      ],
      "metadata": {
        "id": "aVMWxHi0w7QM"
      },
      "execution_count": null,
      "outputs": []
    },
    {
      "cell_type": "code",
      "source": [
        "'''\n",
        "@timer\n",
        "def train_model_high_complexity(lr=0.1, epochs=1000):\n",
        "    b = torch.randn(1, requires_grad=True, dtype=torch.float, device=device)\n",
        "    w = torch.randn(1, requires_grad=True, dtype=torch.float, device=device)\n",
        "    w2 = torch.randn(1, requires_grad=True, dtype=torch.float, device=device)\n",
        "    w3 = torch.randn(1, requires_grad=True, dtype=torch.float, device=device)\n",
        "    w4 = torch.randn(1, requires_grad=True, dtype=torch.float, device=device)\n",
        "    w5 = torch.randn(1, requires_grad=True, dtype=torch.float, device=device)\n",
        "    parameters = [b, w, w2, w3, w4, w5]\n",
        "    optimizer = optim.SGD(parameters, lr=lr)\n",
        "    mse_loss = nn.MSELoss()\n",
        "\n",
        "    for epoch in range(epochs):\n",
        "        # Loss computation\n",
        "        y_hat = b + w * x_train_tensor + w2 * (x_train_tensor ** 2) + w3 * (x_train_tensor ** 3) + w4 * (x_train_tensor ** 4) + w5 * (x_train_tensor ** 5)\n",
        "        loss = mse_loss(y_hat, y_train_tensor)\n",
        "\n",
        "        # Gradient computation and descent\n",
        "        loss.backward()\n",
        "        optimizer.step()\n",
        "        optimizer.zero_grad()\n",
        "\n",
        "    return w5, w4, w3, w2, w, b\n",
        "'''"
      ],
      "metadata": {
        "id": "sENV-eJsw9Uf"
      },
      "execution_count": null,
      "outputs": []
    },
    {
      "cell_type": "code",
      "source": [
        "train_w4, train_w3, train_w2, train_w, train_b = train_model_torch_optim()"
      ],
      "metadata": {
        "id": "krkWR_kmQgjY"
      },
      "execution_count": null,
      "outputs": []
    },
    {
      "cell_type": "code",
      "source": [
        "mse_loss = nn.MSELoss()\n",
        "\n",
        "with torch.no_grad():\n",
        "  y_hat = train_b + train_w * x_val_tensor + train_w2 * (x_val_tensor ** 2) + train_w3 * (x_val_tensor ** 3) + train_w4 * (x_val_tensor ** 4)\n",
        "  loss = mse_loss(y_hat, y_val_tensor)\n",
        "\n",
        "print(loss)"
      ],
      "metadata": {
        "id": "-Dm-owa7QUfd"
      },
      "execution_count": null,
      "outputs": []
    },
    {
      "cell_type": "code",
      "source": [
        "def train_and_validate(lr=0.1, epochs=1000, num_iterations=10):\n",
        "    test_mse_sum = 0.0  # Test MSE의 합을 저장할 변수\n",
        "\n",
        "    for i in range(num_iterations):\n",
        "        # 모델 초기화 및 학습\n",
        "        train_w4, train_w3, train_w2, train_w, train_b = train_model_torch_optim(lr=lr, epochs=epochs)\n",
        "\n",
        "        # 검증 데이터의 MSE 계산\n",
        "        with torch.no_grad():\n",
        "            y_hat = train_b + train_w * x_val_tensor + train_w2 * (x_val_tensor ** 2) + train_w3 * (x_val_tensor ** 3) + train_w4 * (x_val_tensor ** 4)\n",
        "            loss = mse_loss(y_hat, y_val_tensor)\n",
        "            test_mse_sum += loss.item()  # MSE 값을 누적\n",
        "\n",
        "    # 10회 반복한 평균 MSE 계산\n",
        "    average_test_mse = test_mse_sum / num_iterations\n",
        "    return average_test_mse\n",
        "\n",
        "# 10회 반복한 평균 MSE 출력\n",
        "average_mse = train_and_validate(lr=0.5, epochs=1000, num_iterations=10)\n",
        "print(\"Average Test MSE:\", average_mse)\n",
        "\n",
        "# 평균 MSE가 0.05 미만인지 확인\n",
        "if average_mse < 0.05:\n",
        "    print(\"평균 Test MSE가 0.05 미만입니다.\")\n",
        "else:\n",
        "    print(\"평균 Test MSE가 0.05 이상입니다.\")"
      ],
      "metadata": {
        "id": "IlrA9gATtyUF"
      },
      "execution_count": null,
      "outputs": []
    },
    {
      "cell_type": "markdown",
      "source": [
        "* 학습률(lr: learning rate)을 너무 크게 설정하면 발산할 수 있으며, 너무 작게 설정하면 수렴이 느려질 수 있다.\n",
        "\n",
        "* 모델 복잡도(현재는 4차 다항식)를 수정하여 조정할 수 있다\n",
        "더 복잡하게 만들면 더 정확한 적합이 가능할 수 있지만, 과적합을 방지하기 위해 규제 기법을 적용해야 할 수도 있다.\n",
        "\n",
        "* 모델이 데이터에 과적합되는 것을 방지하기 위해 L1 Regularization 또는 L2 Regularization 를 추가할 수 있습니다. (torch.nn.L1Loss 또는 torch.nn.L2Loss를 사용)\n",
        "\n",
        "* SGD 외에 다른 옵티마이저를 사용할 수 있음.\n"
      ],
      "metadata": {
        "id": "I2kzt_q5uV4Z"
      }
    },
    {
      "cell_type": "markdown",
      "source": [
        "### L1, L2 Regularization![KakaoTalk_20231011_031150931.png](data:image/png;base64,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)"
      ],
      "metadata": {
        "id": "Uh4alGCqyJEA"
      }
    },
    {
      "cell_type": "code",
      "source": [
        "'''\n",
        "@timer\n",
        "def train_model_torch_l1_reg(lr=0.1, epochs=1000, l1_lambda=0.01):\n",
        "    b = torch.randn(1, requires_grad=True, dtype=torch.float, device=device)\n",
        "    w = torch.randn(1, requires_grad=True, dtype=torch.float, device=device)\n",
        "    w2 = torch.randn(1, requires_grad=True, dtype=torch.float, device=device)\n",
        "    w3 = torch.randn(1, requires_grad=True, dtype=torch.float, device=device)\n",
        "    w4 = torch.randn(1, requires_grad=True, dtype=torch.float, device=device)\n",
        "    parameters = [b, w, w2, w3, w4]\n",
        "    optimizer = optim.SGD(parameters, lr=lr)\n",
        "    mse_loss = nn.MSELoss()\n",
        "    l1_loss = nn.L1Loss()  # L1 Loss를 추가\n",
        "\n",
        "    for epoch in range(epochs):\n",
        "        # Loss computation with L1 규제\n",
        "        y_hat = b + w * x_train_tensor + w2 * (x_train_tensor ** 2) + w3 * (x_train_tensor ** 3) + w4 * (x_train_tensor ** 4)\n",
        "        loss = mse_loss(y_hat, y_train_tensor)\n",
        "\n",
        "        # L1 Loss 추가\n",
        "        l1_reg = torch.tensor(0., requires_grad=True, device=device)\n",
        "        for param in parameters:\n",
        "            l1_reg += torch.abs(param).sum()\n",
        "        loss += l1_lambda * l1_reg\n",
        "\n",
        "        # Gradient computation and descent\n",
        "        loss.backward()\n",
        "        optimizer.step()\n",
        "        optimizer.zero_grad()\n",
        "\n",
        "    return w4, w3, w2, w, b\n",
        "'''"
      ],
      "metadata": {
        "id": "-7MjOVXcxSmy"
      },
      "execution_count": null,
      "outputs": []
    },
    {
      "cell_type": "code",
      "source": [
        "'''\n",
        "@timer\n",
        "def train_model_torch_l2_reg(lr=0.1, epochs=1000, l2_lambda=0.01):\n",
        "    b = torch.randn(1, requires_grad=True, dtype=torch.float, device=device)\n",
        "    w = torch.randn(1, requires_grad=True, dtype=torch.float, device=device)\n",
        "    w2 = torch.randn(1, requires_grad=True, dtype=torch.float, device=device)\n",
        "    w3 = torch.randn(1, requires_grad=True, dtype=torch.float, device=device)\n",
        "    w4 = torch.randn(1, requires_grad=True, dtype=torch.float, device=device)\n",
        "    parameters = [b, w, w2, w3, w4]\n",
        "    optimizer = optim.SGD(parameters, lr=lr)\n",
        "    mse_loss = nn.MSELoss()\n",
        "    l2_loss = nn.MSELoss()  # L2 Loss를 추가\n",
        "\n",
        "    for epoch in range(epochs):\n",
        "        # Loss computation with L2 규제\n",
        "        y_hat = b + w * x_train_tensor + w2 * (x_train_tensor ** 2) + w3 * (x_train_tensor ** 3) + w4 * (x_train_tensor ** 4)\n",
        "        loss = mse_loss(y_hat, y_train_tensor)\n",
        "\n",
        "        # L2 Loss 추가\n",
        "        l2_reg = torch.tensor(0., requires_grad=True, device=device)\n",
        "        for param in parameters:\n",
        "            l2_reg += (param ** 2).sum()\n",
        "        loss += 0.5 * l2_lambda * l2_reg  # L2 규제항은 반으로 나눠줍니다.\n",
        "\n",
        "        # Gradient computation and descent\n",
        "        loss.backward()\n",
        "        optimizer.step()\n",
        "        optimizer.zero_grad()\n",
        "\n",
        "    return w4, w3, w2, w, b\n",
        "'''"
      ],
      "metadata": {
        "id": "dwC3H4pbxU8D"
      },
      "execution_count": null,
      "outputs": []
    },
    {
      "cell_type": "markdown",
      "source": [
        "위의 여러가지 방법을 통해 10회 반복 측정한 평균 test MSE error 값 0.05미만 및 학습시간 500ms(=0.5초) 미만이 되도록 할 수 있습니다."
      ],
      "metadata": {
        "id": "Zl6m54Ncxj77"
      }
    }
  ]
}